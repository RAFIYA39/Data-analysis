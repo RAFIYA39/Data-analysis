{
 "cells": [
  {
   "cell_type": "markdown",
   "id": "1137d4d4-4b58-4756-9330-e31190d2ec4a",
   "metadata": {},
   "source": [
    "## Create a dataframe"
   ]
  },
  {
   "cell_type": "code",
   "execution_count": 1,
   "id": "bca8440f-d48d-46c5-993f-3ed7323ee675",
   "metadata": {},
   "outputs": [
    {
     "data": {
      "text/html": [
       "<div>\n",
       "<style scoped>\n",
       "    .dataframe tbody tr th:only-of-type {\n",
       "        vertical-align: middle;\n",
       "    }\n",
       "\n",
       "    .dataframe tbody tr th {\n",
       "        vertical-align: top;\n",
       "    }\n",
       "\n",
       "    .dataframe thead th {\n",
       "        text-align: right;\n",
       "    }\n",
       "</style>\n",
       "<table border=\"1\" class=\"dataframe\">\n",
       "  <thead>\n",
       "    <tr style=\"text-align: right;\">\n",
       "      <th></th>\n",
       "      <th>Name</th>\n",
       "      <th>Branch</th>\n",
       "      <th>Year</th>\n",
       "      <th>CGPA</th>\n",
       "    </tr>\n",
       "  </thead>\n",
       "  <tbody>\n",
       "    <tr>\n",
       "      <th>0</th>\n",
       "      <td>Nikhil</td>\n",
       "      <td>CSE</td>\n",
       "      <td>2</td>\n",
       "      <td>9.0</td>\n",
       "    </tr>\n",
       "    <tr>\n",
       "      <th>1</th>\n",
       "      <td>Sanchit</td>\n",
       "      <td>CSE</td>\n",
       "      <td>2</td>\n",
       "      <td>9.1</td>\n",
       "    </tr>\n",
       "    <tr>\n",
       "      <th>2</th>\n",
       "      <td>Aditya</td>\n",
       "      <td>IT</td>\n",
       "      <td>2</td>\n",
       "      <td>9.3</td>\n",
       "    </tr>\n",
       "    <tr>\n",
       "      <th>3</th>\n",
       "      <td>Sagar</td>\n",
       "      <td>IT</td>\n",
       "      <td>1</td>\n",
       "      <td>9.5</td>\n",
       "    </tr>\n",
       "  </tbody>\n",
       "</table>\n",
       "</div>"
      ],
      "text/plain": [
       "      Name Branch Year  CGPA\n",
       "0   Nikhil    CSE    2   9.0\n",
       "1  Sanchit    CSE    2   9.1\n",
       "2   Aditya     IT    2   9.3\n",
       "3    Sagar     IT    1   9.5"
      ]
     },
     "execution_count": 1,
     "metadata": {},
     "output_type": "execute_result"
    }
   ],
   "source": [
    "import pandas as pd\n",
    "\n",
    "# Create a dictionary with the data\n",
    "data = {\n",
    "    'Name': ['Nikhil', 'Sanchit', 'Aditya', 'Sagar'],\n",
    "    'Branch': ['CSE', 'CSE', 'IT', 'IT'],\n",
    "    'Year': ['2', '2', '2', '1'],\n",
    "    'CGPA': [9.0, 9.1, 9.3, 9.5]\n",
    "}\n",
    "\n",
    "# Create a DataFrame from the dictionary\n",
    "df = pd.DataFrame(data)\n",
    "df"
   ]
  },
  {
   "cell_type": "markdown",
   "id": "7fbc6182-9d4e-4026-9f4d-b14840383155",
   "metadata": {},
   "source": [
    "## Find the average CGPA of the students"
   ]
  },
  {
   "cell_type": "code",
   "execution_count": 33,
   "id": "4a4f7412-20a2-4a7c-998c-e93b94be11f5",
   "metadata": {},
   "outputs": [
    {
     "data": {
      "text/plain": [
       "9.225000000000001"
      ]
     },
     "execution_count": 33,
     "metadata": {},
     "output_type": "execute_result"
    }
   ],
   "source": [
    "df['CGPA'].mean()"
   ]
  },
  {
   "cell_type": "markdown",
   "id": "308e8bf4-db21-4328-85b9-97f3f16d2f72",
   "metadata": {},
   "source": [
    "### Display the details of all students having CGPA > 9"
   ]
  },
  {
   "cell_type": "code",
   "execution_count": 40,
   "id": "3d238972-318e-4564-bcb6-5e5a7d11bdce",
   "metadata": {},
   "outputs": [
    {
     "name": "stdout",
     "output_type": "stream",
     "text": [
      "\n",
      "Students with CGPA > 9:\n"
     ]
    },
    {
     "data": {
      "text/html": [
       "<div>\n",
       "<style scoped>\n",
       "    .dataframe tbody tr th:only-of-type {\n",
       "        vertical-align: middle;\n",
       "    }\n",
       "\n",
       "    .dataframe tbody tr th {\n",
       "        vertical-align: top;\n",
       "    }\n",
       "\n",
       "    .dataframe thead th {\n",
       "        text-align: right;\n",
       "    }\n",
       "</style>\n",
       "<table border=\"1\" class=\"dataframe\">\n",
       "  <thead>\n",
       "    <tr style=\"text-align: right;\">\n",
       "      <th></th>\n",
       "      <th>Name</th>\n",
       "      <th>Branch</th>\n",
       "      <th>Year</th>\n",
       "      <th>CGPA</th>\n",
       "    </tr>\n",
       "  </thead>\n",
       "  <tbody>\n",
       "    <tr>\n",
       "      <th>1</th>\n",
       "      <td>Sanchit</td>\n",
       "      <td>CSE</td>\n",
       "      <td>2</td>\n",
       "      <td>9.1</td>\n",
       "    </tr>\n",
       "    <tr>\n",
       "      <th>2</th>\n",
       "      <td>Aditya</td>\n",
       "      <td>IT</td>\n",
       "      <td>2</td>\n",
       "      <td>9.3</td>\n",
       "    </tr>\n",
       "    <tr>\n",
       "      <th>3</th>\n",
       "      <td>Sagar</td>\n",
       "      <td>IT</td>\n",
       "      <td>1</td>\n",
       "      <td>9.5</td>\n",
       "    </tr>\n",
       "  </tbody>\n",
       "</table>\n",
       "</div>"
      ],
      "text/plain": [
       "      Name Branch Year  CGPA\n",
       "1  Sanchit    CSE    2   9.1\n",
       "2   Aditya     IT    2   9.3\n",
       "3    Sagar     IT    1   9.5"
      ]
     },
     "execution_count": 40,
     "metadata": {},
     "output_type": "execute_result"
    }
   ],
   "source": [
    "students_cgpa_above_9 = df[df['CGPA'] > 9]\n",
    "print(\"\\nStudents with CGPA > 9:\")\n",
    "students_cgpa_above_9\n"
   ]
  },
  {
   "cell_type": "markdown",
   "id": "dab65bfb-3d9c-45d4-b739-2a7fd67d0e39",
   "metadata": {},
   "source": [
    "### Display the details of all CSE students with CGPA > 9"
   ]
  },
  {
   "cell_type": "code",
   "execution_count": 41,
   "id": "a72a7d33-cf7c-4b69-aff7-2ccec191e1c8",
   "metadata": {},
   "outputs": [
    {
     "name": "stdout",
     "output_type": "stream",
     "text": [
      "\n",
      "CSE Students with CGPA > 9:\n"
     ]
    },
    {
     "data": {
      "text/html": [
       "<div>\n",
       "<style scoped>\n",
       "    .dataframe tbody tr th:only-of-type {\n",
       "        vertical-align: middle;\n",
       "    }\n",
       "\n",
       "    .dataframe tbody tr th {\n",
       "        vertical-align: top;\n",
       "    }\n",
       "\n",
       "    .dataframe thead th {\n",
       "        text-align: right;\n",
       "    }\n",
       "</style>\n",
       "<table border=\"1\" class=\"dataframe\">\n",
       "  <thead>\n",
       "    <tr style=\"text-align: right;\">\n",
       "      <th></th>\n",
       "      <th>Name</th>\n",
       "      <th>Branch</th>\n",
       "      <th>Year</th>\n",
       "      <th>CGPA</th>\n",
       "    </tr>\n",
       "  </thead>\n",
       "  <tbody>\n",
       "    <tr>\n",
       "      <th>1</th>\n",
       "      <td>Sanchit</td>\n",
       "      <td>CSE</td>\n",
       "      <td>2</td>\n",
       "      <td>9.1</td>\n",
       "    </tr>\n",
       "  </tbody>\n",
       "</table>\n",
       "</div>"
      ],
      "text/plain": [
       "      Name Branch Year  CGPA\n",
       "1  Sanchit    CSE    2   9.1"
      ]
     },
     "execution_count": 41,
     "metadata": {},
     "output_type": "execute_result"
    }
   ],
   "source": [
    "cse_students_cgpa_above_9 = df[(df['Branch'] == 'CSE') & (df['CGPA'] > 9)]\n",
    "print(\"\\nCSE Students with CGPA > 9:\")\n",
    "cse_students_cgpa_above_9\n"
   ]
  },
  {
   "cell_type": "markdown",
   "id": "ccc818e6-4770-48cc-b217-bafe6299e714",
   "metadata": {},
   "source": [
    "### Display the details of the student with the maximum CGPA"
   ]
  },
  {
   "cell_type": "code",
   "execution_count": 43,
   "id": "56bb4128-fd4c-457a-927d-50b4c0d1b4c5",
   "metadata": {},
   "outputs": [
    {
     "name": "stdout",
     "output_type": "stream",
     "text": [
      "\n",
      "Student with maximum CGPA:\n"
     ]
    },
    {
     "data": {
      "text/plain": [
       "Name      Sagar\n",
       "Branch       IT\n",
       "Year          1\n",
       "CGPA        9.5\n",
       "Name: 3, dtype: object"
      ]
     },
     "execution_count": 43,
     "metadata": {},
     "output_type": "execute_result"
    }
   ],
   "source": [
    "student_max_cgpa = df.loc[df['CGPA'].idxmax()]\n",
    "print(\"\\nStudent with maximum CGPA:\")\n",
    "student_max_cgpa\n"
   ]
  },
  {
   "cell_type": "markdown",
   "id": "8d3da392-d8cf-468e-84dd-b2b2aa16133f",
   "metadata": {},
   "source": [
    "### Display the average CGPA of each branch"
   ]
  },
  {
   "cell_type": "code",
   "execution_count": 44,
   "id": "9b34e927-fb7a-4d62-934a-4032fd3e849c",
   "metadata": {},
   "outputs": [
    {
     "name": "stdout",
     "output_type": "stream",
     "text": [
      "\n",
      "Average CGPA of each branch:\n"
     ]
    },
    {
     "data": {
      "text/plain": [
       "Branch\n",
       "CSE    9.05\n",
       "IT     9.40\n",
       "Name: CGPA, dtype: float64"
      ]
     },
     "execution_count": 44,
     "metadata": {},
     "output_type": "execute_result"
    }
   ],
   "source": [
    "average_cgpa_per_branch = df.groupby('Branch')['CGPA'].mean().astype(float)\n",
    "print(\"\\nAverage CGPA of each branch:\")\n",
    "average_cgpa_per_branch\n"
   ]
  },
  {
   "cell_type": "code",
   "execution_count": null,
   "id": "fa344bd3-552d-4266-88ac-2714c286a2a4",
   "metadata": {},
   "outputs": [],
   "source": []
  }
 ],
 "metadata": {
  "kernelspec": {
   "display_name": "Python 3 (ipykernel)",
   "language": "python",
   "name": "python3"
  },
  "language_info": {
   "codemirror_mode": {
    "name": "ipython",
    "version": 3
   },
   "file_extension": ".py",
   "mimetype": "text/x-python",
   "name": "python",
   "nbconvert_exporter": "python",
   "pygments_lexer": "ipython3",
   "version": "3.12.4"
  }
 },
 "nbformat": 4,
 "nbformat_minor": 5
}
